{
 "cells": [
  {
   "cell_type": "markdown",
   "metadata": {},
   "source": [
    "# Program 1.1"
   ]
  },
  {
   "cell_type": "code",
   "execution_count": 1,
   "metadata": {},
   "outputs": [
    {
     "name": "stdout",
     "output_type": "stream",
     "text": [
      "Enter a side of the triangle: 3\n",
      "Enter a side of the triangle: 2\n",
      "Enter a side of the triangle: 4\n",
      "Area of Triangle : 2.9047375096555625\n"
     ]
    }
   ],
   "source": [
    "class triangle():                     # parent class\n",
    "    def __init__(self, a, b, c):\n",
    "        self.a = a\n",
    "        self.b = b\n",
    "        self.c = c\n",
    "\n",
    "class area(triangle):                 # child class\n",
    "    def __init__(self, a, b, c):\n",
    "        super().__init__(a, b, c)     # to initialize variables in child class we need to use super function\n",
    "\n",
    "    def ar(self):\n",
    "        s = (self.a + self.b + self.c) / 2\n",
    "        ar = (s * (s - self.a) * (s - self.b) * (s - self.c)) ** 0.5\n",
    "        return ar\n",
    "\n",
    "a=input(\"Enter a side of the triangle: \")\n",
    "b= input(\"Enter a side of the triangle: \")\n",
    "c =input(\"Enter a side of the triangle: \")\n",
    "q = area(float(a),float(b),float(c))\n",
    "print(\"Area of Triangle :\", q.ar())"
   ]
  },
  {
   "cell_type": "code",
   "execution_count": null,
   "metadata": {},
   "outputs": [],
   "source": []
  },
  {
   "cell_type": "markdown",
   "metadata": {},
   "source": [
    "# Program 1.2"
   ]
  },
  {
   "cell_type": "code",
   "execution_count": 2,
   "metadata": {},
   "outputs": [
    {
     "name": "stdout",
     "output_type": "stream",
     "text": [
      "Enter the number:5\n"
     ]
    },
    {
     "data": {
      "text/plain": [
       "['Mathew', 'ineuron']"
      ]
     },
     "execution_count": 2,
     "metadata": {},
     "output_type": "execute_result"
    }
   ],
   "source": [
    "List = ['Shibi','Mathew','ineuron','DL','NLP','CV']\n",
    "def filter_long_words(x,n):\n",
    "    ans = []\n",
    "    for i in List:\n",
    "        if len(i) > n:\n",
    "            ans.append(i)\n",
    "    return ans\n",
    "a = int(input(\"Enter the number:\" ))\n",
    "filter_long_words(List,a)"
   ]
  },
  {
   "cell_type": "code",
   "execution_count": null,
   "metadata": {},
   "outputs": [],
   "source": []
  },
  {
   "cell_type": "markdown",
   "metadata": {},
   "source": [
    "# Program 2.1"
   ]
  },
  {
   "cell_type": "code",
   "execution_count": 3,
   "metadata": {},
   "outputs": [
    {
     "name": "stdout",
     "output_type": "stream",
     "text": [
      "[5, 6, 7, 2, 3, 2]\n"
     ]
    }
   ],
   "source": [
    "words = ['Shibi','Mathew','ineuron','DL','NLP','CV']\n",
    "def length(x):                             \n",
    "    return len(x) \n",
    "result = map(length,words)\n",
    "print(list(result))"
   ]
  },
  {
   "cell_type": "code",
   "execution_count": null,
   "metadata": {},
   "outputs": [],
   "source": []
  },
  {
   "cell_type": "markdown",
   "metadata": {},
   "source": [
    "# Program 2.2"
   ]
  },
  {
   "cell_type": "code",
   "execution_count": 5,
   "metadata": {},
   "outputs": [
    {
     "name": "stdout",
     "output_type": "stream",
     "text": [
      "Please enter a character, if you enter string it gives false :e\n",
      "True\n"
     ]
    }
   ],
   "source": [
    "def vowel(x):\n",
    "    if (len(x)==1) and (x == 'a' or x == 'e' or x == 'i' or x == 'o' or x == 'u'):\n",
    "        return True\n",
    "    else:\n",
    "        return False\n",
    "a = input(\"Please enter a character, if you enter string it gives false :\")\n",
    "print(vowel(a))"
   ]
  },
  {
   "cell_type": "code",
   "execution_count": null,
   "metadata": {},
   "outputs": [],
   "source": []
  }
 ],
 "metadata": {
  "kernelspec": {
   "display_name": "Python 3",
   "language": "python",
   "name": "python3"
  },
  "language_info": {
   "codemirror_mode": {
    "name": "ipython",
    "version": 3
   },
   "file_extension": ".py",
   "mimetype": "text/x-python",
   "name": "python",
   "nbconvert_exporter": "python",
   "pygments_lexer": "ipython3",
   "version": "3.6.5"
  }
 },
 "nbformat": 4,
 "nbformat_minor": 2
}
